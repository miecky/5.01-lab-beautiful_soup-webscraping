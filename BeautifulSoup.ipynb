{
 "cells": [
  {
   "cell_type": "markdown",
   "metadata": {},
   "source": [
    "Final Table Example\n",
    "\n",
    "\n",
    "| restaurant | category | name    | calories | carbs | fat |\n",
    "|------------|----------|---------|----------|-------|-----|\n",
    "| McDonald's | Burgers  | Big Mac | 540      | 45    | 29  |\n",
    "| Burger King | Burgers  | Whopper | 900      | 51    | 57  |\n",
    "| ... | ...  | ... | ...      | ...    | ...  |\n",
    "| Chili's | Ribs  | Shiner Bock® BBQ Ribs | 2310      | 168    | 123  |"
   ]
  },
  {
   "cell_type": "code",
   "execution_count": 11,
   "metadata": {},
   "outputs": [],
   "source": [
    "# Import libaries\n",
    "import pandas as pd\n",
    "import requests\n",
    "from bs4 import BeautifulSoup"
   ]
  },
  {
   "cell_type": "markdown",
   "metadata": {},
   "source": [
    "### Step 1: Create a soup object from the home page"
   ]
  },
  {
   "cell_type": "code",
   "execution_count": 38,
   "metadata": {},
   "outputs": [
    {
     "data": {
      "text/plain": [
       "200"
      ]
     },
     "execution_count": 38,
     "metadata": {},
     "output_type": "execute_result"
    }
   ],
   "source": [
    "# create url\n",
    "url = 'http://chubbygrub.com/'\n",
    "\n",
    "# read content\n",
    "res = requests.get(url)\n",
    "\n",
    "# check status code\n",
    "res.status_code"
   ]
  },
  {
   "cell_type": "code",
   "execution_count": 13,
   "metadata": {},
   "outputs": [],
   "source": [
    "# create soup object\n",
    "soup = BeautifulSoup(res.content, 'lxml')"
   ]
  },
  {
   "cell_type": "markdown",
   "metadata": {},
   "source": [
    "### Step 2: Scrape the home page soup for every restaurant\n",
    "\n",
    "Note: Your best bet is to create a list of dictionaries, one for each restaurant. Each dictionary contains the restaurant's name and slug. The result of your scrape should look something like this:\n",
    "\n",
    "```python\n",
    "restaurants = [\n",
    "    {'name': 'A&W Restaurants', 'slug': 'aw-restaurants'}, \n",
    "    {'name': \"Applebee's\", 'slug': 'applebees'},\n",
    "    ...\n",
    "]\n",
    "```"
   ]
  },
  {
   "cell_type": "code",
   "execution_count": 87,
   "metadata": {},
   "outputs": [],
   "source": [
    "# create list for restaurant + slugs\n",
    "restaurants = []\n",
    "for row in soup.find_all('a',{'class':\"btn btn-lg btn-primary\"}):\n",
    "    restaurant = {}\n",
    "    restaurant['name'] = row.text\n",
    "    restaurant['slug'] = row.attrs['href'].split('/')[2]\n",
    "    restaurants.append(restaurant)\n",
    "df_restaurants = pd.DataFrame(restaurants)"
   ]
  },
  {
   "cell_type": "code",
   "execution_count": 88,
   "metadata": {},
   "outputs": [
    {
     "data": {
      "text/html": [
       "<div>\n",
       "<style scoped>\n",
       "    .dataframe tbody tr th:only-of-type {\n",
       "        vertical-align: middle;\n",
       "    }\n",
       "\n",
       "    .dataframe tbody tr th {\n",
       "        vertical-align: top;\n",
       "    }\n",
       "\n",
       "    .dataframe thead th {\n",
       "        text-align: right;\n",
       "    }\n",
       "</style>\n",
       "<table border=\"1\" class=\"dataframe\">\n",
       "  <thead>\n",
       "    <tr style=\"text-align: right;\">\n",
       "      <th></th>\n",
       "      <th>name</th>\n",
       "      <th>slug</th>\n",
       "    </tr>\n",
       "  </thead>\n",
       "  <tbody>\n",
       "    <tr>\n",
       "      <th>0</th>\n",
       "      <td>A&amp;W Restaurants</td>\n",
       "      <td>aw-restaurants</td>\n",
       "    </tr>\n",
       "    <tr>\n",
       "      <th>1</th>\n",
       "      <td>Applebee's</td>\n",
       "      <td>applebees</td>\n",
       "    </tr>\n",
       "    <tr>\n",
       "      <th>2</th>\n",
       "      <td>Arby's</td>\n",
       "      <td>arbys</td>\n",
       "    </tr>\n",
       "    <tr>\n",
       "      <th>3</th>\n",
       "      <td>Atlanta Bread Company</td>\n",
       "      <td>atlanta-bread-company</td>\n",
       "    </tr>\n",
       "    <tr>\n",
       "      <th>4</th>\n",
       "      <td>Bojangle's Famous Chicken 'n Biscuits</td>\n",
       "      <td>bojangles-famous-chicken-n-biscuits</td>\n",
       "    </tr>\n",
       "  </tbody>\n",
       "</table>\n",
       "</div>"
      ],
      "text/plain": [
       "                                    name                                 slug\n",
       "0                        A&W Restaurants                       aw-restaurants\n",
       "1                             Applebee's                            applebees\n",
       "2                                 Arby's                                arbys\n",
       "3                  Atlanta Bread Company                atlanta-bread-company\n",
       "4  Bojangle's Famous Chicken 'n Biscuits  bojangles-famous-chicken-n-biscuits"
      ]
     },
     "execution_count": 88,
     "metadata": {},
     "output_type": "execute_result"
    }
   ],
   "source": [
    "# check the data\n",
    "df_restaurants.head()"
   ]
  },
  {
   "cell_type": "code",
   "execution_count": 89,
   "metadata": {},
   "outputs": [
    {
     "data": {
      "text/plain": [
       "(44, 2)"
      ]
     },
     "execution_count": 89,
     "metadata": {},
     "output_type": "execute_result"
    }
   ],
   "source": [
    "# check the size\n",
    "df_restaurants.shape"
   ]
  },
  {
   "cell_type": "markdown",
   "metadata": {},
   "source": [
    "### Step 3: Using the slug, scrape each restaurant's page and create a single list of food dictionaries.\n",
    "\n",
    "Your list of foods should look something like this:\n",
    "```python\n",
    "foods = [\n",
    "    {\n",
    "        'calories': '0',\n",
    "        'carbs': '0',\n",
    "        'category': 'Drinks',\n",
    "        'fat': '0',\n",
    "        'name': 'A&W® Diet Root Beer',\n",
    "        'restaurant': 'A&W Restaurants'\n",
    "    },\n",
    "    {\n",
    "        'calories': '0',\n",
    "        'carbs': '0',\n",
    "        'category': 'Drinks',\n",
    "        'fat': '0',\n",
    "        'name': 'A&W® Diet Root Beer',\n",
    "        'restaurant': 'A&W Restaurants'\n",
    "    },\n",
    "    ...\n",
    "]\n",
    "```\n",
    "\n",
    "**Note**: Remove extra white space from each category"
   ]
  },
  {
   "cell_type": "code",
   "execution_count": 91,
   "metadata": {},
   "outputs": [
    {
     "name": "stdout",
     "output_type": "stream",
     "text": [
      "Status code for http://chubbygrub.com/restaurants/aw-restaurants/: 200\n",
      "Status code for http://chubbygrub.com/restaurants/applebees/: 200\n",
      "Status code for http://chubbygrub.com/restaurants/arbys/: 200\n",
      "Status code for http://chubbygrub.com/restaurants/atlanta-bread-company/: 200\n",
      "Status code for http://chubbygrub.com/restaurants/bojangles-famous-chicken-n-biscuits/: 200\n",
      "Status code for http://chubbygrub.com/restaurants/buffalo-wild-wings/: 200\n",
      "Status code for http://chubbygrub.com/restaurants/burger-king/: 200\n",
      "Status code for http://chubbygrub.com/restaurants/captain-ds/: 200\n",
      "Status code for http://chubbygrub.com/restaurants/carls-jr/: 200\n",
      "Status code for http://chubbygrub.com/restaurants/charleys-grilled-subs/: 200\n",
      "Status code for http://chubbygrub.com/restaurants/chick-fil-a/: 200\n",
      "Status code for http://chubbygrub.com/restaurants/chilis/: 200\n",
      "Status code for http://chubbygrub.com/restaurants/chipotle-mexican-grill/: 200\n",
      "Status code for http://chubbygrub.com/restaurants/churchs/: 200\n",
      "Status code for http://chubbygrub.com/restaurants/corner-bakery-cafe/: 200\n",
      "Status code for http://chubbygrub.com/restaurants/dairy-queen/: 200\n",
      "Status code for http://chubbygrub.com/restaurants/dennys/: 200\n",
      "Status code for http://chubbygrub.com/restaurants/el-pollo-loco/: 200\n",
      "Status code for http://chubbygrub.com/restaurants/fatz/: 200\n",
      "Status code for http://chubbygrub.com/restaurants/fazolis/: 200\n",
      "Status code for http://chubbygrub.com/restaurants/five-guys-burgers-and-fries/: 200\n",
      "Status code for http://chubbygrub.com/restaurants/golden-chick/: 200\n",
      "Status code for http://chubbygrub.com/restaurants/hardees/: 200\n",
      "Status code for http://chubbygrub.com/restaurants/ihop/: 200\n",
      "Status code for http://chubbygrub.com/restaurants/in-n-out-burger/: 200\n",
      "Status code for http://chubbygrub.com/restaurants/jack-in-the-box/: 200\n",
      "Status code for http://chubbygrub.com/restaurants/jimmy-johns/: 200\n",
      "Status code for http://chubbygrub.com/restaurants/joes-crab-shack/: 200\n",
      "Status code for http://chubbygrub.com/restaurants/kfc/: 200\n",
      "Status code for http://chubbygrub.com/restaurants/mcdonalds/: 200\n",
      "Status code for http://chubbygrub.com/restaurants/ocharleys/: 200\n",
      "Status code for http://chubbygrub.com/restaurants/olive-garden/: 200\n",
      "Status code for http://chubbygrub.com/restaurants/outback-steakhouse/: 200\n",
      "Status code for http://chubbygrub.com/restaurants/panda-express/: 200\n",
      "Status code for http://chubbygrub.com/restaurants/panera-bread/: 200\n",
      "Status code for http://chubbygrub.com/restaurants/popeyes/: 200\n",
      "Status code for http://chubbygrub.com/restaurants/quiznos/: 200\n",
      "Status code for http://chubbygrub.com/restaurants/red-robin-gourmet-burgers/: 200\n",
      "Status code for http://chubbygrub.com/restaurants/romanos-macaroni-grill/: 200\n",
      "Status code for http://chubbygrub.com/restaurants/ruby-tuesday/: 200\n",
      "Status code for http://chubbygrub.com/restaurants/subway/: 200\n",
      "Status code for http://chubbygrub.com/restaurants/taco-bell/: 200\n",
      "Status code for http://chubbygrub.com/restaurants/taco-bueno/: 200\n",
      "Status code for http://chubbygrub.com/restaurants/wendys/: 200\n"
     ]
    }
   ],
   "source": [
    "# create a food dictionary\n",
    "foods = []\n",
    "for restaurant in restaurants: # loop through all restaurants\n",
    "    url_food = url + \"restaurants/\" + restaurant['slug'] + \"/\"\n",
    "    res_food = requests.get(url_food) # construct url for each res\n",
    "    print(f'Status code for {url_food}: {res_food.status_code}')\n",
    "    soup_food = BeautifulSoup(res_food.content, 'lxml')\n",
    "    for block in soup_food.find_all('tr')[1:]:\n",
    "        food = {}\n",
    "        food['name'] = block.find('td', {'itemprop': 'name'}).text.strip()\n",
    "        food['calories'] = block.find('td', {'itemprop': 'calories'}).text.strip()\n",
    "        food['category'] = block.find('a').text.strip()\n",
    "        food['fat'] = block.find('td',{'itemprop': 'fatContent'}).text.strip()\n",
    "        food['carbs'] = block.find('td',{'itemprop': 'carbohydrateContent'}).text.strip()\n",
    "        food['restaurant'] = restaurant['name']\n",
    "        foods.append(food)"
   ]
  },
  {
   "cell_type": "markdown",
   "metadata": {},
   "source": [
    "### Step 4: Create a pandas DataFrame from your list of foods\n",
    "\n",
    "**Note**: Your DataFrame should have 4,977 rows"
   ]
  },
  {
   "cell_type": "code",
   "execution_count": 96,
   "metadata": {},
   "outputs": [],
   "source": [
    "# create a dataframe\n",
    "df_foods = pd.DataFrame(foods)\n",
    "\n",
    "# re-order columns\n",
    "df_foods = df_foods[['restaurant','category','name','calories','carbs','fat']]"
   ]
  },
  {
   "cell_type": "code",
   "execution_count": 97,
   "metadata": {},
   "outputs": [
    {
     "data": {
      "text/html": [
       "<div>\n",
       "<style scoped>\n",
       "    .dataframe tbody tr th:only-of-type {\n",
       "        vertical-align: middle;\n",
       "    }\n",
       "\n",
       "    .dataframe tbody tr th {\n",
       "        vertical-align: top;\n",
       "    }\n",
       "\n",
       "    .dataframe thead th {\n",
       "        text-align: right;\n",
       "    }\n",
       "</style>\n",
       "<table border=\"1\" class=\"dataframe\">\n",
       "  <thead>\n",
       "    <tr style=\"text-align: right;\">\n",
       "      <th></th>\n",
       "      <th>restaurant</th>\n",
       "      <th>category</th>\n",
       "      <th>name</th>\n",
       "      <th>calories</th>\n",
       "      <th>carbs</th>\n",
       "      <th>fat</th>\n",
       "    </tr>\n",
       "  </thead>\n",
       "  <tbody>\n",
       "    <tr>\n",
       "      <th>0</th>\n",
       "      <td>A&amp;W Restaurants</td>\n",
       "      <td>Drinks</td>\n",
       "      <td>A&amp;W® Diet Root Beer</td>\n",
       "      <td>0</td>\n",
       "      <td>0</td>\n",
       "      <td>0</td>\n",
       "    </tr>\n",
       "    <tr>\n",
       "      <th>1</th>\n",
       "      <td>A&amp;W Restaurants</td>\n",
       "      <td>Drinks</td>\n",
       "      <td>A&amp;W® Diet Root Beer</td>\n",
       "      <td>0</td>\n",
       "      <td>0</td>\n",
       "      <td>0</td>\n",
       "    </tr>\n",
       "    <tr>\n",
       "      <th>2</th>\n",
       "      <td>A&amp;W Restaurants</td>\n",
       "      <td>Drinks</td>\n",
       "      <td>A&amp;W® Diet Root Beer</td>\n",
       "      <td>0</td>\n",
       "      <td>0</td>\n",
       "      <td>0</td>\n",
       "    </tr>\n",
       "    <tr>\n",
       "      <th>3</th>\n",
       "      <td>A&amp;W Restaurants</td>\n",
       "      <td>Drinks</td>\n",
       "      <td>A&amp;W® Diet Root Beer</td>\n",
       "      <td>0</td>\n",
       "      <td>0</td>\n",
       "      <td>0</td>\n",
       "    </tr>\n",
       "    <tr>\n",
       "      <th>4</th>\n",
       "      <td>A&amp;W Restaurants</td>\n",
       "      <td>Drinks</td>\n",
       "      <td>A&amp;W® Diet Root Beer</td>\n",
       "      <td>0</td>\n",
       "      <td>0</td>\n",
       "      <td>0</td>\n",
       "    </tr>\n",
       "  </tbody>\n",
       "</table>\n",
       "</div>"
      ],
      "text/plain": [
       "        restaurant category                 name calories carbs fat\n",
       "0  A&W Restaurants   Drinks  A&W® Diet Root Beer        0     0   0\n",
       "1  A&W Restaurants   Drinks  A&W® Diet Root Beer        0     0   0\n",
       "2  A&W Restaurants   Drinks  A&W® Diet Root Beer        0     0   0\n",
       "3  A&W Restaurants   Drinks  A&W® Diet Root Beer        0     0   0\n",
       "4  A&W Restaurants   Drinks  A&W® Diet Root Beer        0     0   0"
      ]
     },
     "execution_count": 97,
     "metadata": {},
     "output_type": "execute_result"
    }
   ],
   "source": [
    "# check the firs 5 rows\n",
    "df_foods.head()"
   ]
  },
  {
   "cell_type": "code",
   "execution_count": 98,
   "metadata": {},
   "outputs": [
    {
     "data": {
      "text/plain": [
       "(4977, 6)"
      ]
     },
     "execution_count": 98,
     "metadata": {},
     "output_type": "execute_result"
    }
   ],
   "source": [
    "# check the shape\n",
    "df_foods.shape"
   ]
  },
  {
   "cell_type": "markdown",
   "metadata": {},
   "source": [
    "### Step 5: Export to csv\n",
    "\n",
    "**Note:** Don't export the index column from your DataFrame"
   ]
  },
  {
   "cell_type": "code",
   "execution_count": 99,
   "metadata": {},
   "outputs": [],
   "source": [
    "# Export to csv\n",
    "df_foods.to_csv('chubbygrub_complete_food_list.csv', index=False)"
   ]
  }
 ],
 "metadata": {
  "kernelspec": {
   "display_name": "Python 3",
   "language": "python",
   "name": "python3"
  },
  "language_info": {
   "codemirror_mode": {
    "name": "ipython",
    "version": 3
   },
   "file_extension": ".py",
   "mimetype": "text/x-python",
   "name": "python",
   "nbconvert_exporter": "python",
   "pygments_lexer": "ipython3",
   "version": "3.7.3"
  }
 },
 "nbformat": 4,
 "nbformat_minor": 2
}
